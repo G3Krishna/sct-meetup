{
  "nbformat": 4,
  "nbformat_minor": 0,
  "metadata": {
    "colab": {
      "name": "assignment.ipynb",
      "version": "0.3.2",
      "provenance": [],
      "toc_visible": true,
      "include_colab_link": true
    },
    "kernelspec": {
      "display_name": "Python [conda env:pytorch]",
      "language": "python",
      "name": "conda-env-pytorch-py"
    }
  },
  "cells": [
    {
      "cell_type": "markdown",
      "metadata": {
        "id": "view-in-github",
        "colab_type": "text"
      },
      "source": [
        "<a href=\"https://colab.research.google.com/github/G3Krishna/sct-meetup/blob/students/week-1/assignment.ipynb\" target=\"_parent\"><img src=\"https://colab.research.google.com/assets/colab-badge.svg\" alt=\"Open In Colab\"/></a>"
      ]
    },
    {
      "metadata": {
        "id": "MvRbnV0xKrXh",
        "colab_type": "text"
      },
      "cell_type": "markdown",
      "source": [
        "### Assignment - Intro to Python and Data Structures\n",
        "The assignment is for students to get a feel of the lesson discussed this week. You are free to ask any doubts regarding working out any questions in the group. Also, updating the worked out notebook on Github is very much engaged, be sure to mention School of AI, Trivandrum. Additional recognition for students who document the work using *markdown*."
      ]
    },
    {
      "metadata": {
        "id": "g-F_obliKrXr",
        "colab_type": "text"
      },
      "cell_type": "markdown",
      "source": [
        "##### 1) Read the contents of test.csv "
      ]
    },
    {
      "metadata": {
        "id": "QP4S1blHKrXy",
        "colab_type": "code",
        "colab": {}
      },
      "cell_type": "code",
      "source": [
        "## Your code goes here.\n"
      ],
      "execution_count": 0,
      "outputs": []
    },
    {
      "metadata": {
        "id": "IjbYowBYK0rx",
        "colab_type": "code",
        "colab": {
          "resources": {
            "http://localhost:8080/nbextensions/google.colab/files.js": {
              "data": "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",
              "ok": true,
              "headers": [
                [
                  "content-type",
                  "application/javascript"
                ]
              ],
              "status": 200,
              "status_text": "OK"
            }
          },
          "base_uri": "https://localhost:8080/",
          "height": 100
        },
        "outputId": "e11eb35f-2244-46a3-c822-c2f310e9d154"
      },
      "cell_type": "code",
      "source": [
        "from google.colab import files\n",
        "\n",
        "uploaded = files.upload()\n",
        "\n",
        "for fn in uploaded.keys():\n",
        "  print('User uploaded file \"{name}\" with length {length} bytes'.format(\n",
        "      name=fn, length=len(uploaded[fn])))"
      ],
      "execution_count": 1,
      "outputs": [
        {
          "output_type": "display_data",
          "data": {
            "text/plain": [
              "<IPython.core.display.HTML object>"
            ],
            "text/html": [
              "\n",
              "     <input type=\"file\" id=\"files-52702c50-5c6c-4df8-b53c-0b01fd93111e\" name=\"files[]\" multiple disabled />\n",
              "     <output id=\"result-52702c50-5c6c-4df8-b53c-0b01fd93111e\">\n",
              "      Upload widget is only available when the cell has been executed in the\n",
              "      current browser session. Please rerun this cell to enable.\n",
              "      </output>\n",
              "      <script src=\"/nbextensions/google.colab/files.js\"></script> "
            ]
          },
          "metadata": {
            "tags": []
          }
        },
        {
          "output_type": "stream",
          "text": [
            "Saving test.csv to test.csv\n",
            "User uploaded file \"test.csv\" with length 784 bytes\n"
          ],
          "name": "stdout"
        }
      ]
    },
    {
      "metadata": {
        "id": "SDoZ7eSILDv4",
        "colab_type": "code",
        "colab": {
          "base_uri": "https://localhost:8080/",
          "height": 312
        },
        "outputId": "479640d1-bad1-4729-b538-a25ec0ac7ecc"
      },
      "cell_type": "code",
      "source": [
        "file_open=open('test.csv','r')\n",
        "data=file_open.read()\n",
        "file_open.close()\n",
        "print(data)"
      ],
      "execution_count": 2,
      "outputs": [
        {
          "output_type": "stream",
          "text": [
            "Loan_ID,Gender,Married,Education,ApplicantIncome,LoanAmount,Property_Area\n",
            "LP001015,Male,Yes,Graduate,5720,110,Urban\n",
            "LP001022,Male,Yes,Graduate,3076,126,Urban\n",
            "LP001031,Male,Yes,Graduate,5000,208,Urban\n",
            "LP001035,Male,Yes,Graduate,2340,100,Urban\n",
            "LP001051,Male,No,Not Graduate,3276,78,Urban\n",
            "LP001054,Male,Yes,Not Graduate,2165,152,Urban\n",
            "LP001055,Female,No,Not Graduate,2226,59,Semiurban\n",
            "LP001056,Male,Yes,Not Graduate,3881,147,Rural\n",
            "LP001059,Male,Yes,Graduate,13633,280,Urban\n",
            "LP001067,Male,No,Not Graduate,2400,123,Semiurban\n",
            "LP001078,Male,No,Not Graduate,3091,90,Urban\n",
            "LP001082,Male,Yes,Graduate,2185,162,Semiurban\n",
            "LP001083,Male,No,Graduate,4166,40,Urban\n",
            "LP001094,Male,Yes,Graduate,12173,166,Semiurban\n",
            "LP001096,Female,No,Graduate,4666,124,Semiurban\n",
            "LP001099,Male,No,Graduate,5667,131,Urban\n"
          ],
          "name": "stdout"
        }
      ]
    },
    {
      "metadata": {
        "id": "dlCjQBW3LKLm",
        "colab_type": "text"
      },
      "cell_type": "markdown",
      "source": [
        "**To split the csv into different lines**"
      ]
    },
    {
      "metadata": {
        "id": "yKx9ocqDLR2h",
        "colab_type": "code",
        "colab": {
          "base_uri": "https://localhost:8080/",
          "height": 416
        },
        "outputId": "b7d3039d-4869-47b6-9e84-02c1d4377e49"
      },
      "cell_type": "code",
      "source": [
        "first_array=data.split( '\\n')\n",
        "\n",
        "\n",
        "matrix=[]\n",
        "for i in first_array:\n",
        "  matrix.append(i.split(','))\n",
        "matrix\n"
      ],
      "execution_count": 3,
      "outputs": [
        {
          "output_type": "execute_result",
          "data": {
            "text/plain": [
              "[['Loan_ID',\n",
              "  'Gender',\n",
              "  'Married',\n",
              "  'Education',\n",
              "  'ApplicantIncome',\n",
              "  'LoanAmount',\n",
              "  'Property_Area'],\n",
              " ['LP001015', 'Male', 'Yes', 'Graduate', '5720', '110', 'Urban'],\n",
              " ['LP001022', 'Male', 'Yes', 'Graduate', '3076', '126', 'Urban'],\n",
              " ['LP001031', 'Male', 'Yes', 'Graduate', '5000', '208', 'Urban'],\n",
              " ['LP001035', 'Male', 'Yes', 'Graduate', '2340', '100', 'Urban'],\n",
              " ['LP001051', 'Male', 'No', 'Not Graduate', '3276', '78', 'Urban'],\n",
              " ['LP001054', 'Male', 'Yes', 'Not Graduate', '2165', '152', 'Urban'],\n",
              " ['LP001055', 'Female', 'No', 'Not Graduate', '2226', '59', 'Semiurban'],\n",
              " ['LP001056', 'Male', 'Yes', 'Not Graduate', '3881', '147', 'Rural'],\n",
              " ['LP001059', 'Male', 'Yes', 'Graduate', '13633', '280', 'Urban'],\n",
              " ['LP001067', 'Male', 'No', 'Not Graduate', '2400', '123', 'Semiurban'],\n",
              " ['LP001078', 'Male', 'No', 'Not Graduate', '3091', '90', 'Urban'],\n",
              " ['LP001082', 'Male', 'Yes', 'Graduate', '2185', '162', 'Semiurban'],\n",
              " ['LP001083', 'Male', 'No', 'Graduate', '4166', '40', 'Urban'],\n",
              " ['LP001094', 'Male', 'Yes', 'Graduate', '12173', '166', 'Semiurban'],\n",
              " ['LP001096', 'Female', 'No', 'Graduate', '4666', '124', 'Semiurban'],\n",
              " ['LP001099', 'Male', 'No', 'Graduate', '5667', '131', 'Urban']]"
            ]
          },
          "metadata": {
            "tags": []
          },
          "execution_count": 3
        }
      ]
    },
    {
      "metadata": {
        "id": "pKgnmqTTLrJe",
        "colab_type": "text"
      },
      "cell_type": "markdown",
      "source": [
        "**To make the csv in the form of  a dictionary, we use fromkeys()**"
      ]
    },
    {
      "metadata": {
        "id": "DwPN9FPXLtiS",
        "colab_type": "code",
        "colab": {
          "base_uri": "https://localhost:8080/",
          "height": 139
        },
        "outputId": "84fed91e-7ec1-457a-c256-2bb29298b292"
      },
      "cell_type": "code",
      "source": [
        "f_row = matrix[0]\n",
        "dict = dict.fromkeys(f_row)\n",
        "for i in f_row:\n",
        "  dict[i] = []\n",
        "dict"
      ],
      "execution_count": 4,
      "outputs": [
        {
          "output_type": "execute_result",
          "data": {
            "text/plain": [
              "{'ApplicantIncome': [],\n",
              " 'Education': [],\n",
              " 'Gender': [],\n",
              " 'LoanAmount': [],\n",
              " 'Loan_ID': [],\n",
              " 'Married': [],\n",
              " 'Property_Area': []}"
            ]
          },
          "metadata": {
            "tags": []
          },
          "execution_count": 4
        }
      ]
    },
    {
      "metadata": {
        "id": "KuNiE3MzLy3a",
        "colab_type": "text"
      },
      "cell_type": "markdown",
      "source": [
        "**To assign values to the keys in the dictionary**"
      ]
    },
    {
      "metadata": {
        "id": "5Ya0x02dL8QA",
        "colab_type": "code",
        "colab": {
          "base_uri": "https://localhost:8080/",
          "height": 1962
        },
        "outputId": "a0bb5dc3-bcff-4cb1-cb02-d33501de8a2d"
      },
      "cell_type": "code",
      "source": [
        "for i in range(1,len(matrix)):\n",
        "  for j in range(len(f_row)):\n",
        "    dict[f_row[j]].append(matrix[i][j])\n",
        "    \n",
        "dict"
      ],
      "execution_count": 5,
      "outputs": [
        {
          "output_type": "execute_result",
          "data": {
            "text/plain": [
              "{'ApplicantIncome': ['5720',\n",
              "  '3076',\n",
              "  '5000',\n",
              "  '2340',\n",
              "  '3276',\n",
              "  '2165',\n",
              "  '2226',\n",
              "  '3881',\n",
              "  '13633',\n",
              "  '2400',\n",
              "  '3091',\n",
              "  '2185',\n",
              "  '4166',\n",
              "  '12173',\n",
              "  '4666',\n",
              "  '5667'],\n",
              " 'Education': ['Graduate',\n",
              "  'Graduate',\n",
              "  'Graduate',\n",
              "  'Graduate',\n",
              "  'Not Graduate',\n",
              "  'Not Graduate',\n",
              "  'Not Graduate',\n",
              "  'Not Graduate',\n",
              "  'Graduate',\n",
              "  'Not Graduate',\n",
              "  'Not Graduate',\n",
              "  'Graduate',\n",
              "  'Graduate',\n",
              "  'Graduate',\n",
              "  'Graduate',\n",
              "  'Graduate'],\n",
              " 'Gender': ['Male',\n",
              "  'Male',\n",
              "  'Male',\n",
              "  'Male',\n",
              "  'Male',\n",
              "  'Male',\n",
              "  'Female',\n",
              "  'Male',\n",
              "  'Male',\n",
              "  'Male',\n",
              "  'Male',\n",
              "  'Male',\n",
              "  'Male',\n",
              "  'Male',\n",
              "  'Female',\n",
              "  'Male'],\n",
              " 'LoanAmount': ['110',\n",
              "  '126',\n",
              "  '208',\n",
              "  '100',\n",
              "  '78',\n",
              "  '152',\n",
              "  '59',\n",
              "  '147',\n",
              "  '280',\n",
              "  '123',\n",
              "  '90',\n",
              "  '162',\n",
              "  '40',\n",
              "  '166',\n",
              "  '124',\n",
              "  '131'],\n",
              " 'Loan_ID': ['LP001015',\n",
              "  'LP001022',\n",
              "  'LP001031',\n",
              "  'LP001035',\n",
              "  'LP001051',\n",
              "  'LP001054',\n",
              "  'LP001055',\n",
              "  'LP001056',\n",
              "  'LP001059',\n",
              "  'LP001067',\n",
              "  'LP001078',\n",
              "  'LP001082',\n",
              "  'LP001083',\n",
              "  'LP001094',\n",
              "  'LP001096',\n",
              "  'LP001099'],\n",
              " 'Married': ['Yes',\n",
              "  'Yes',\n",
              "  'Yes',\n",
              "  'Yes',\n",
              "  'No',\n",
              "  'Yes',\n",
              "  'No',\n",
              "  'Yes',\n",
              "  'Yes',\n",
              "  'No',\n",
              "  'No',\n",
              "  'Yes',\n",
              "  'No',\n",
              "  'Yes',\n",
              "  'No',\n",
              "  'No'],\n",
              " 'Property_Area': ['Urban',\n",
              "  'Urban',\n",
              "  'Urban',\n",
              "  'Urban',\n",
              "  'Urban',\n",
              "  'Urban',\n",
              "  'Semiurban',\n",
              "  'Rural',\n",
              "  'Urban',\n",
              "  'Semiurban',\n",
              "  'Urban',\n",
              "  'Semiurban',\n",
              "  'Urban',\n",
              "  'Semiurban',\n",
              "  'Semiurban',\n",
              "  'Urban']}"
            ]
          },
          "metadata": {
            "tags": []
          },
          "execution_count": 5
        }
      ]
    },
    {
      "metadata": {
        "id": "Abl9GbjjK_Vi",
        "colab_type": "text"
      },
      "cell_type": "markdown",
      "source": [
        ""
      ]
    },
    {
      "metadata": {
        "id": "1og7nfWJKrYF",
        "colab_type": "text"
      },
      "cell_type": "markdown",
      "source": [
        "##### 2) Replace the *Graduate* and *Not Graduate* in the Education column by 1 and 0 respectively"
      ]
    },
    {
      "metadata": {
        "id": "CiRzSDxoKrYL",
        "colab_type": "code",
        "colab": {
          "base_uri": "https://localhost:8080/",
          "height": 1962
        },
        "outputId": "1e30558f-1462-40b8-9a16-967218f8877e"
      },
      "cell_type": "code",
      "source": [
        "column_graduate=dict['Education']\n",
        "new_column=[]\n",
        "\n",
        "for i in range(len(column_graduate)):\n",
        "  if column_graduate[i] in 'Graduate':\n",
        "      new_column.append('1')\n",
        "  else:\n",
        "      new_column.append('0')\n",
        "\n",
        "dict['Education']=new_column\n",
        "\n",
        "dict"
      ],
      "execution_count": 6,
      "outputs": [
        {
          "output_type": "execute_result",
          "data": {
            "text/plain": [
              "{'ApplicantIncome': ['5720',\n",
              "  '3076',\n",
              "  '5000',\n",
              "  '2340',\n",
              "  '3276',\n",
              "  '2165',\n",
              "  '2226',\n",
              "  '3881',\n",
              "  '13633',\n",
              "  '2400',\n",
              "  '3091',\n",
              "  '2185',\n",
              "  '4166',\n",
              "  '12173',\n",
              "  '4666',\n",
              "  '5667'],\n",
              " 'Education': ['1',\n",
              "  '1',\n",
              "  '1',\n",
              "  '1',\n",
              "  '0',\n",
              "  '0',\n",
              "  '0',\n",
              "  '0',\n",
              "  '1',\n",
              "  '0',\n",
              "  '0',\n",
              "  '1',\n",
              "  '1',\n",
              "  '1',\n",
              "  '1',\n",
              "  '1'],\n",
              " 'Gender': ['Male',\n",
              "  'Male',\n",
              "  'Male',\n",
              "  'Male',\n",
              "  'Male',\n",
              "  'Male',\n",
              "  'Female',\n",
              "  'Male',\n",
              "  'Male',\n",
              "  'Male',\n",
              "  'Male',\n",
              "  'Male',\n",
              "  'Male',\n",
              "  'Male',\n",
              "  'Female',\n",
              "  'Male'],\n",
              " 'LoanAmount': ['110',\n",
              "  '126',\n",
              "  '208',\n",
              "  '100',\n",
              "  '78',\n",
              "  '152',\n",
              "  '59',\n",
              "  '147',\n",
              "  '280',\n",
              "  '123',\n",
              "  '90',\n",
              "  '162',\n",
              "  '40',\n",
              "  '166',\n",
              "  '124',\n",
              "  '131'],\n",
              " 'Loan_ID': ['LP001015',\n",
              "  'LP001022',\n",
              "  'LP001031',\n",
              "  'LP001035',\n",
              "  'LP001051',\n",
              "  'LP001054',\n",
              "  'LP001055',\n",
              "  'LP001056',\n",
              "  'LP001059',\n",
              "  'LP001067',\n",
              "  'LP001078',\n",
              "  'LP001082',\n",
              "  'LP001083',\n",
              "  'LP001094',\n",
              "  'LP001096',\n",
              "  'LP001099'],\n",
              " 'Married': ['Yes',\n",
              "  'Yes',\n",
              "  'Yes',\n",
              "  'Yes',\n",
              "  'No',\n",
              "  'Yes',\n",
              "  'No',\n",
              "  'Yes',\n",
              "  'Yes',\n",
              "  'No',\n",
              "  'No',\n",
              "  'Yes',\n",
              "  'No',\n",
              "  'Yes',\n",
              "  'No',\n",
              "  'No'],\n",
              " 'Property_Area': ['Urban',\n",
              "  'Urban',\n",
              "  'Urban',\n",
              "  'Urban',\n",
              "  'Urban',\n",
              "  'Urban',\n",
              "  'Semiurban',\n",
              "  'Rural',\n",
              "  'Urban',\n",
              "  'Semiurban',\n",
              "  'Urban',\n",
              "  'Semiurban',\n",
              "  'Urban',\n",
              "  'Semiurban',\n",
              "  'Semiurban',\n",
              "  'Urban']}"
            ]
          },
          "metadata": {
            "tags": []
          },
          "execution_count": 6
        }
      ]
    },
    {
      "metadata": {
        "id": "HPfV2FBzKrYY",
        "colab_type": "text"
      },
      "cell_type": "markdown",
      "source": [
        "##### 3) Find the minimum and maximum value of *Loan Amount*. Also calculate the mean *Loan Amount*\n"
      ]
    },
    {
      "metadata": {
        "id": "wAI6t9ofKrYd",
        "colab_type": "code",
        "colab": {
          "base_uri": "https://localhost:8080/",
          "height": 69
        },
        "outputId": "c8d87b57-62d8-4e6e-e550-2a6687f7ba88"
      },
      "cell_type": "code",
      "source": [
        "loan_array=[]\n",
        "loan_sum=0\n",
        "\n",
        "for i in dict['LoanAmount']:\n",
        "    loan_sum+=int(i)\n",
        "    loan_array.append(int(i))\n",
        "    \n",
        "print(\"Maximum value of LoanAmount: \" +str(max(loan_array)))\n",
        "print(\"Minimum value of LoanAmount: \" +str(min(loan_array)))\n",
        "print(\"Average value of LoanAmount: \" +str(loan_sum/len(loan_array)))"
      ],
      "execution_count": 7,
      "outputs": [
        {
          "output_type": "stream",
          "text": [
            "Maximum value of LoanAmount: 280\n",
            "Minimum value of LoanAmount: 40\n",
            "Average value of LoanAmount: 131\n"
          ],
          "name": "stdout"
        }
      ]
    }
  ]
}