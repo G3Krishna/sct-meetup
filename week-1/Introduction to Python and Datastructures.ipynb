{
 "cells": [
  {
   "cell_type": "markdown",
   "metadata": {},
   "source": [
    "# Play with Data"
   ]
  },
  {
   "cell_type": "markdown",
   "metadata": {},
   "source": [
    "#### What is Data?\n",
    "\n",
    "- Structured (Log information, Database Entries).\n",
    "- Unstructured Data."
   ]
  },
  {
   "cell_type": "markdown",
   "metadata": {},
   "source": [
    "### Data Representations\n",
    "- CSVs\n",
    "- Matrices"
   ]
  },
  {
   "cell_type": "markdown",
   "metadata": {},
   "source": [
    "<a id='dsp'></a>\n",
    "### Data Structures of Python\n",
    "#### - Lists\n",
    "Array like data structures, no length limit. Very useful for storing series data, etc.\n",
    "#### - Sets, Tuple, etc\n",
    "Array like with additional features.\n",
    "__Set__ - Useful for storing unique elements\n",
    "__Tuple__ - Useful for storing set of elements that won't change.\n",
    "#### - Dictionary\n",
    "Dictionary is very useful for storing key value pairs.\n",
    "\n",
    "[Further Reading](https://docs.python.org/3/tutorial/datastructures.html)\n"
   ]
  },
  {
   "cell_type": "code",
   "execution_count": null,
   "metadata": {},
   "outputs": [],
   "source": [
    "## List"
   ]
  },
  {
   "cell_type": "code",
   "execution_count": null,
   "metadata": {},
   "outputs": [],
   "source": [
    "## Set"
   ]
  },
  {
   "cell_type": "code",
   "execution_count": null,
   "metadata": {},
   "outputs": [],
   "source": [
    "## Tuple"
   ]
  },
  {
   "cell_type": "code",
   "execution_count": null,
   "metadata": {},
   "outputs": [],
   "source": [
    "## Dictionary"
   ]
  },
  {
   "cell_type": "markdown",
   "metadata": {},
   "source": [
    "#### - Files in Python\n",
    "Files can be opened by using the *open()* function. Takes two main arguments, *filename* and *mode*."
   ]
  },
  {
   "cell_type": "markdown",
   "metadata": {},
   "source": [
    "### Data Loading in python.\n",
    "\n",
    "```\n",
    "file = open(filename, fileflag)\n",
    "## Read the lines\n",
    "## Close the file\n",
    "```"
   ]
  },
  {
   "cell_type": "code",
   "execution_count": null,
   "metadata": {},
   "outputs": [],
   "source": [
    "# load the csv file : Data/test.csv."
   ]
  },
  {
   "cell_type": "markdown",
   "metadata": {},
   "source": [
    "##### with keyword\n",
    "the with keyword can be used to open files without closing it by indenting the code block.\n",
    "```\n",
    "with open(filename, 'r') as file: ### equalent to writing file = open(filename, 'r')\n",
    "    print(file.read())\n",
    "print('processing done')\n",
    "```\n",
    "    "
   ]
  },
  {
   "cell_type": "code",
   "execution_count": null,
   "metadata": {
    "scrolled": true
   },
   "outputs": [],
   "source": [
    "# Display the file string representation."
   ]
  },
  {
   "cell_type": "markdown",
   "metadata": {},
   "source": [
    "#### Data\n",
    "As we can see, the data is unstructured. This is because '\\n' or newline special character is encoded as it is instead of opening a new line. This character helps us split the string into lines. We just need to split the data at every newline character that we encounter."
   ]
  },
  {
   "cell_type": "markdown",
   "metadata": {},
   "source": [
    "### Representing in a List"
   ]
  },
  {
   "cell_type": "code",
   "execution_count": null,
   "metadata": {},
   "outputs": [],
   "source": [
    "# Split lines into list."
   ]
  },
  {
   "cell_type": "code",
   "execution_count": null,
   "metadata": {},
   "outputs": [],
   "source": [
    "# Splitting induvidual lines.\n",
    "\n",
    "# The original string representation.\n",
    "\n",
    "# The String split into different columns."
   ]
  },
  {
   "cell_type": "markdown",
   "metadata": {},
   "source": [
    "#### Creating a List of Lists\n",
    "We need to be able to access every cell and all the values. And for that, we will split every single string rows that are in the list into list of cell values."
   ]
  },
  {
   "cell_type": "code",
   "execution_count": null,
   "metadata": {},
   "outputs": [],
   "source": [
    "# Create the final cleaned list.\n",
    "\n",
    "# Loop to iterate and process each line.\n"
   ]
  },
  {
   "cell_type": "code",
   "execution_count": null,
   "metadata": {
    "scrolled": false
   },
   "outputs": [],
   "source": [
    "# Display the cleaned list.\n"
   ]
  },
  {
   "cell_type": "markdown",
   "metadata": {},
   "source": [
    "#### Accessing Data\n",
    "Now that we have represented our data in the form of a 2D matrix. It is very easy for us to access the elements. We can access it easy by:\n",
    "\n",
    "```\n",
    "matrix[row][column]\n",
    "```"
   ]
  },
  {
   "cell_type": "code",
   "execution_count": null,
   "metadata": {},
   "outputs": [],
   "source": [
    "# Accessing LP001054 in the Loan ID.\n",
    "# Access a 2D matrix as matrix[row][column].\n"
   ]
  },
  {
   "cell_type": "markdown",
   "metadata": {},
   "source": [
    "### Representing in a Dictionary.\n",
    "\n",
    "The data can be reperesented in a Python dictionary as follow :\n",
    "```\n",
    "data['column_name'] = [List of values in that particular column]\n",
    "```\n",
    "For that, we will create a dictionary with keys as the column names and data represented as list. Then, we will iterate through the rows containing the data and then append the values of a row to the corresponding keys of the column."
   ]
  },
  {
   "cell_type": "code",
   "execution_count": null,
   "metadata": {},
   "outputs": [],
   "source": [
    "# Converting the data into a dictionary.\n",
    "# Creating the dicitonary with columns.\n"
   ]
  },
  {
   "cell_type": "code",
   "execution_count": null,
   "metadata": {},
   "outputs": [],
   "source": [
    "# Initialize the dictionary with empty lists.\n"
   ]
  },
  {
   "cell_type": "code",
   "execution_count": null,
   "metadata": {},
   "outputs": [],
   "source": [
    "# Display the dictionary.\n"
   ]
  },
  {
   "cell_type": "code",
   "execution_count": null,
   "metadata": {},
   "outputs": [],
   "source": [
    "# Append the values to the respective columns.\n"
   ]
  },
  {
   "cell_type": "code",
   "execution_count": null,
   "metadata": {},
   "outputs": [],
   "source": [
    "# Print the dict"
   ]
  },
  {
   "cell_type": "code",
   "execution_count": null,
   "metadata": {},
   "outputs": [],
   "source": [
    "# Accessing just the LoadIds\n"
   ]
  },
  {
   "cell_type": "markdown",
   "metadata": {},
   "source": [
    "### In conclusion\n",
    "The use of list and Lists and Dictionaries to process data was to give you a very fundamental understanding on how data can be processed and loaded. However, when it comes to huge data, we will need a better and faster framework. Looping poses a serious overhead to performance. We will be discussing more on Numpy and Pandas and discuss how we can load and process data easily and efficiently.\n",
    "\n",
    "This free course on [Udacity](https://classroom.udacity.com/courses/ud170-india) can help understanding data processing in great detail."
   ]
  },
  {
   "cell_type": "markdown",
   "metadata": {},
   "source": [
    "### Assignment\n",
    "\n",
    "In the file *Data/test.csv* you are supposed to do the following processing. In the given assignment.ipynb notebook, work out the questions mentioned. Active students in the community, in terms of completion of assignments properly as well as helping out others will recieve commendation from School of AI, Trivandrum and also amazing merchandise."
   ]
  }
 ],
 "metadata": {
  "kernelspec": {
   "display_name": "Python [conda env:anaconda2]",
   "language": "python",
   "name": "conda-env-anaconda2-py"
  },
  "language_info": {
   "codemirror_mode": {
    "name": "ipython",
    "version": 2
   },
   "file_extension": ".py",
   "mimetype": "text/x-python",
   "name": "python",
   "nbconvert_exporter": "python",
   "pygments_lexer": "ipython2",
   "version": "2.7.15"
  }
 },
 "nbformat": 4,
 "nbformat_minor": 2
}
